{
 "cells": [
  {
   "cell_type": "markdown",
   "metadata": {},
   "source": [
    "# Discretization of the diffusion equation using the FVM"
   ]
  },
  {
   "cell_type": "markdown",
   "metadata": {},
   "source": [
    "We want to solve the one-dimensional steady state diffusion equation for the property $\\phi$.  The governing equation for this problem is expressed as follows:\n",
    "\n",
    "\\begin{equation}\n",
    "\\frac{\\partial}{\\partial x} (\\Gamma \\frac{\\partial \\phi}{\\partial x}) + S_{\\phi}\n",
    "\\label{e1}\n",
    "\\end{equation}\n"
   ]
  },
  {
   "cell_type": "markdown",
   "metadata": {},
   "source": [
    "A sample control volume is shown in the figure below,"
   ]
  },
  {
   "cell_type": "markdown",
   "metadata": {},
   "source": [
    "<img src=\"figs/uni.gif\",width=500>\n",
    "<h4 align=\"center\">Figure 1</h4> "
   ]
  },
  {
   "cell_type": "markdown",
   "metadata": {},
   "source": [
    "Let us integrate this equation over every control volume $CV$ of the domain to obtain\n",
    "\n",
    "\\begin{equation}\n",
    "\\int_{CV} \\frac{\\partial}{\\partial x} (\\Gamma \\frac{\\partial \\phi}{\\partial x}) dV + \\int_{CV} S_{\\phi} dV\n",
    "\\label{e2}\n",
    "\\end{equation}\n"
   ]
  },
  {
   "cell_type": "markdown",
   "metadata": {},
   "source": [
    "By applying gauss divergence theorem to convert volume integrals into surface integrals, we get the following equation\n",
    "\n",
    "\\begin{equation}\n",
    "\\oint _{A} \\frac{\\partial}{\\partial x} (\\Gamma \\frac{\\partial \\phi}{\\partial x}) \\cdot \\mathbf{n}dA + \\oint _{CV} S_{\\phi} dV\n",
    "\\label{e3}\n",
    "\\end{equation}\n"
   ]
  },
  {
   "cell_type": "markdown",
   "metadata": {},
   "source": [
    "In the previous equation $\\mathbf{n}$ is the normal to the face and $dA$ is the area of the face."
   ]
  },
  {
   "cell_type": "markdown",
   "metadata": {},
   "source": [
    "Integrating the previous equation over a control volume, we obtain\n",
    "\n",
    "\\begin{equation}\n",
    "\\left[ \\Gamma A \\frac{\\partial \\phi}{\\partial x} \\right]_e - \\left[ \\Gamma A \\frac{\\partial \\phi}{\\partial x} \\right]_w + \\overline{S} \\Delta V\n",
    "\\label{e4}\n",
    "\\end{equation}"
   ]
  },
  {
   "cell_type": "markdown",
   "metadata": {},
   "source": [
    "where $\\Delta V$ is the volume of the control volume and $\\overline{S}$ is the average value of the source term $S$ over the control volume."
   ]
  },
  {
   "cell_type": "markdown",
   "metadata": {},
   "source": [
    "In the above equation, we can evaluate the diffusive fluxes as follows\n",
    "\n",
    "\\begin{equation}\n",
    "\\left[ \\Gamma A \\frac{\\partial \\phi}{\\partial x} \\right]_e = \\Gamma_e A_e \\left[ \\frac{\\phi_E - \\phi_P}{\\Delta_{PE}} \\right] = \\Gamma_e A_e \\left[ \\frac{\\phi_E - \\phi_P}{\\Delta} \\right]\n",
    "\\label{e5}\n",
    "\\end{equation}\n",
    "\n",
    "\\begin{equation}\n",
    "\\left[ \\Gamma A \\frac{\\partial \\phi}{\\partial x} \\right]_w = \\Gamma_w A_w \\left[ \\frac{\\phi_P - \\phi_W}{\\Delta_{WP}} \\right] = \\Gamma_w A_w \\left[ \\frac{\\phi_P - \\phi_W}{\\Delta} \\right]\n",
    "\\label{e6}\n",
    "\\end{equation}"
   ]
  },
  {
   "cell_type": "markdown",
   "metadata": {},
   "source": [
    "In equations 5 and 6 we computed the gradient of $\\phi$ by using central differencing, which is a second order approximation.  We also assumed that $\\Delta_{PE} = \\Delta_{WP} = \\Delta$  and $\\Delta_{Pe}=\\Delta_{wP}=\\Delta / 2$, meaning that we are dealing with a uniform mesh (refer to figure 1)."
   ]
  },
  {
   "cell_type": "markdown",
   "metadata": {},
   "source": [
    "Have in mind that we can use the same method with nun-unigorm grids, the only difference is that we will need to store more geometrical information."
   ]
  },
  {
   "cell_type": "markdown",
   "metadata": {},
   "source": [
    "The source term appearing in equation 4, can be expressed as follows\n",
    "\n",
    "\\begin{equation}\n",
    "\\overline{S} \\Delta V = S_u + S_p \\phi_P\n",
    "\\label{e7}\n",
    "\\end{equation}"
   ]
  },
  {
   "cell_type": "markdown",
   "metadata": {},
   "source": [
    "Substituting equations 5, 6 and 7 into equation 4, we get \n",
    "\n",
    "\\begin{equation}\n",
    "\\Gamma_e A_e  \\left[ \\frac{\\phi_E - \\phi_P}{\\Delta} \\right] - \\Gamma_w A_w  \\left[ \\frac{\\phi_P - \\phi_W}{\\Delta} \\right] + (S_u + S_p \\phi_P)\n",
    "\\label{e8}\n",
    "\\end{equation}"
   ]
  },
  {
   "cell_type": "markdown",
   "metadata": {},
   "source": [
    "rearranging equation 8 we obtain\n",
    "\n",
    "\n",
    "\\begin{equation}\n",
    "\\left[  \\frac{\\Gamma_e}{\\Delta} A_e + \\frac{\\Gamma_w}{\\Delta} A_w - S_p   \\right] \\phi_P = \\left[  \\frac{\\Gamma_w}{\\Delta} A_w   \\right] \\phi_W + \\left[  \\frac{\\Gamma_e}{\\Delta} A_e   \\right] \\phi_E + S_u\n",
    "\\label{e9}\n",
    "\\end{equation}"
   ]
  },
  {
   "cell_type": "markdown",
   "metadata": {},
   "source": [
    "Identifying the coefficients appearing in equation 9 and grouping everything, the above equation can be written as\n",
    "\n",
    "\n",
    "\\begin{equation}\n",
    "a_P \\phi_P = a_W \\phi_W + a_E \\phi_E + S_u\n",
    "\\label{e10}\n",
    "\\end{equation}\n"
   ]
  },
  {
   "cell_type": "markdown",
   "metadata": {},
   "source": [
    "where\n",
    "\n",
    "\\begin{equation}\n",
    "\\begin{split}\n",
    "a_W &= \\frac{\\Gamma_w}{\\Delta_{WP} } A_w = \\frac{\\Gamma_w}{\\Delta } A_w \\\\\n",
    "a_E &= \\frac{\\Gamma_e}{\\Delta_{PE} } A_e = \\frac{\\Gamma_e}{\\Delta } A_e\\\\\n",
    "a_P &= a_W + a_E - S_p\n",
    "\\end {split}\n",
    "\\label{e11}\n",
    "\\end{equation}\n"
   ]
  },
  {
   "cell_type": "markdown",
   "metadata": {},
   "source": [
    "Equations 10 and 7, represent the discretized form of equation 1."
   ]
  },
  {
   "cell_type": "markdown",
   "metadata": {},
   "source": [
    "In figure 2, we illustrate the grid layout of boundary face A.  Boundary faces requires special treatment."
   ]
  },
  {
   "cell_type": "markdown",
   "metadata": {},
   "source": [
    "<img src=\"figs/bc1.gif\",width=500>\n",
    "<h4 align=\"center\">Figure 2</h4> "
   ]
  },
  {
   "cell_type": "markdown",
   "metadata": {},
   "source": [
    "Integrating equation 1 over the control volume P (as shown in figure 2), we can obtain the discretized equation of the boundary face,\n",
    "\n",
    "\\begin{equation}\n",
    "\\Gamma_e A_e  \\left[ \\frac{\\phi_E - \\phi_P}{\\Delta_{PE}} \\right] - \\Gamma_w A_w  \\left[ \\frac{\\phi_P - \\phi_A}{\\Delta_{wP}} \\right]\n",
    "\\label{e12}\n",
    "\\end{equation}"
   ]
  },
  {
   "cell_type": "markdown",
   "metadata": {},
   "source": [
    "The previous expression shows that the flux through control volume boundary face A has been approximated by assuming a linear relationship between temperatures at boundary face A (where the value is known) and control volume center P."
   ]
  },
  {
   "cell_type": "markdown",
   "metadata": {},
   "source": [
    "Rearranging equation 12 and assuming that $\\Delta_{PE} = \\Delta$  and $\\Delta_{Pe}=\\Delta_{wP}=\\Delta / 2$ (uniform mesh), we obtain\n",
    "\n",
    "\n",
    "\\begin{equation}\n",
    "\\left[  \\frac{\\Gamma_e}{\\Delta} A_e + \\frac{2 \\Gamma_w}{\\Delta} A_w   \\right] \\phi_P = 0 \\times \\phi_W + \\left[  \\frac{\\Gamma_e}{\\Delta} A_e   \\right] \\phi_E + \\left[  \\frac{2 \\Gamma_e}{\\Delta} A_e   \\right] \\phi_A \n",
    "\\label{e13}\n",
    "\\end{equation}"
   ]
  },
  {
   "cell_type": "markdown",
   "metadata": {},
   "source": [
    "Comparing equation 13 to equation 9, it can be seen that the boundary value enters the calculation as a surce term in the form of $S_u + S_p \\phi_P$, with $S_u = (2 \\Gamma_w A_w / \\Delta) \\phi_A$ and $S_p = -2 \\Gamma_w A_w / \\Delta$, and the link to the west boundary side has been suppressed by setting  the coefficient $\\phi_W$ equal to zero."
   ]
  },
  {
   "cell_type": "markdown",
   "metadata": {},
   "source": [
    "Equation 13 can be expressed in the same form as equation 10 to yield the discretized equation for the boundary control volume,\n",
    "\n",
    "\\begin{equation}\n",
    "a_P \\phi_P = a_W \\phi_W + a_E \\phi_E + S_u\n",
    "\\label{e14}\n",
    "\\end{equation}\n"
   ]
  },
  {
   "cell_type": "markdown",
   "metadata": {},
   "source": [
    "where\n",
    "\n",
    "\\begin{equation}\n",
    "\\begin{split}\n",
    "a_W &= 0 \\\\\n",
    "a_E &= \\frac{\\Gamma_e A_e}{\\Delta } \\\\\n",
    "a_P &= a_W + a_E - S_p \\\\\n",
    "S_p &= - \\frac{2 \\Gamma_w A_w}{\\Delta} \\\\\n",
    "S_u &= \\frac{2 \\Gamma_w A_w}{\\Delta} \\phi_A\n",
    "\\end {split}\n",
    "\\label{e15}\n",
    "\\end{equation}"
   ]
  },
  {
   "cell_type": "markdown",
   "metadata": {},
   "source": [
    "In figure 3, we illustrate the grid layout of boundary face B. "
   ]
  },
  {
   "cell_type": "markdown",
   "metadata": {},
   "source": [
    "<img src=\"figs/bc2.gif\",width=500>\n",
    "<h4 align=\"center\">Figure 3</h4> "
   ]
  },
  {
   "cell_type": "markdown",
   "metadata": {},
   "source": [
    "The control volume that belongs to boundary face B can be treated in a similar way as for boundary face A (figure 2).  Assuming that $\\Delta_{WP} = \\Delta$  and $\\Delta_{Pe}=\\Delta_{wP}=\\Delta / 2$ (uniform mesh), its discretized equation is given by,\n",
    "\n",
    "\\begin{equation}\n",
    "\\Gamma_e A_e  \\left[ \\frac{\\phi_B - \\phi_P}{\\Delta / 2} \\right] - \\Gamma_w A_w  \\left[ \\frac{\\phi_P - \\phi_W}{\\Delta} \\right]\n",
    "\\label{e16}\n",
    "\\end{equation}"
   ]
  },
  {
   "cell_type": "markdown",
   "metadata": {},
   "source": [
    "Rearranging equation 16 we obtain,\n",
    "\n",
    "\\begin{equation}\n",
    "\\left[  \\frac{\\Gamma_e}{\\Delta} A_e + \\frac{2 \\Gamma_w}{\\Delta} A_w   \\right] \\phi_P = \\left[  \\frac{\\Gamma_e}{\\Delta} A_e   \\right] \\phi_W + 0 \\times \\phi_E + \\left[  \\frac{2 \\Gamma_e}{\\Delta} A_e   \\right] \\phi_B\n",
    "\\label{e17}\n",
    "\\end{equation}"
   ]
  },
  {
   "cell_type": "markdown",
   "metadata": {},
   "source": [
    "Then, the discretized equation for the boundary control volume can be expressed as,\n",
    "\n",
    "\\begin{equation}\n",
    "a_P \\phi_P = a_W \\phi_W + a_E \\phi_E + S_u\n",
    "\\label{e18}\n",
    "\\end{equation}"
   ]
  },
  {
   "cell_type": "markdown",
   "metadata": {},
   "source": [
    "where\n",
    "\n",
    "\\begin{equation}\n",
    "\\begin{split}\n",
    "a_W &= \\frac{\\Gamma_w A_w}{\\Delta } \\\\\n",
    "a_E &= 0 \\\\\n",
    "a_P &= a_W + a_E - S_p \\\\\n",
    "S_p &= - \\frac{2 \\Gamma_w A_w}{\\Delta} \\\\\n",
    "S_u &= \\frac{2 \\Gamma_w A_w}{\\Delta} \\phi_B\n",
    "\\end {split}\n",
    "\\label{e19}\n",
    "\\end{equation}"
   ]
  },
  {
   "cell_type": "markdown",
   "metadata": {},
   "source": [
    "Equations 10 and 11 are valid for all interior control volumes; whereas equations 14, 15, 18 and 19 are valid for boundary control volumes."
   ]
  },
  {
   "cell_type": "markdown",
   "metadata": {},
   "source": [
    "In the previous equations and as we are dealing with a uniform grid, the face values of $\\Gamma$ are given by\n",
    "\n",
    "$$\n",
    "\\Gamma_w = \\frac{\\Gamma_W + \\Gamma_P}{2}\n",
    "$$\n",
    "\n",
    "$$\n",
    "\\Gamma_e = \\frac{\\Gamma_P + \\Gamma_E}{2}\n",
    "$$\n",
    "\n",
    "where we used linear interpolation (which is a second order approximation)."
   ]
  },
  {
   "cell_type": "markdown",
   "metadata": {},
   "source": [
    "## Summary"
   ]
  },
  {
   "cell_type": "markdown",
   "metadata": {},
   "source": [
    "The general form of the discretized equations can be expressed as follows,\n",
    "\n",
    "$$\n",
    "a_P \\phi_P = \\sum a_{nb} \\phi_{nb} + S_u\n",
    "$$"
   ]
  },
  {
   "cell_type": "markdown",
   "metadata": {},
   "source": [
    "where $\\sum$ indicates summation over all neighbouring control volumes ($nb$), $a_{nb}$ are the neightbouring coefficients, and $(S_u + S_p \\phi_P)$ is the linearized source term."
   ]
  },
  {
   "cell_type": "markdown",
   "metadata": {},
   "source": [
    "Also, the coeffcients around cell center $P$ satisfy the following relation\n",
    "\n",
    "$$\n",
    "a_P = \\sum a_{nb} - S_p\n",
    "$$"
   ]
  },
  {
   "cell_type": "code",
   "execution_count": null,
   "metadata": {
    "collapsed": false
   },
   "outputs": [],
   "source": []
  },
  {
   "cell_type": "markdown",
   "metadata": {},
   "source": [
    "## Working example"
   ]
  },
  {
   "cell_type": "markdown",
   "metadata": {},
   "source": [
    "Consider the problem of source-free heat conduction in an insulated rod whose ends are maintained at constant temperatures of $100^{\\circ} \\, C$ and $500^{\\circ} \\, C$ respectively. The problem is governed by equation 1.  \n",
    "\n",
    "Calculate the steady state temperature distribution in the rod.  \n",
    "\n",
    "Assume: \n",
    "\n",
    "* Thermal conductivity $k$ is equal to $1000 \\, W/m.K$\n",
    "\n",
    "* Heat generation $q$ is equal to $0$\n",
    "\n",
    "* Cross-sectional area A is $10 \\times 10^{-3} \\, m^2$\n",
    "\n",
    "* Rod length is $L_{rod} = 0.5 \\, m$\n",
    "\n",
    "* $T_A = 100^{\\circ} \\, C$ \n",
    "\n",
    "* $T_B = 500^{\\circ} \\, C$\n",
    "\n",
    "* Use 5 cells, then increase the number of cells in the domain."
   ]
  },
  {
   "cell_type": "markdown",
   "metadata": {},
   "source": [
    "The analytical solution to this problem is given by\n",
    "\n",
    "$$\n",
    "T(x) = \\left[ \\frac{ T_B - T_A }{ L_{rod}}   +  \\frac{q}{2 k}    (L_{rod} - x ) \\right] \\, x + T_A\n",
    "$$"
   ]
  },
  {
   "cell_type": "code",
   "execution_count": null,
   "metadata": {
    "collapsed": false
   },
   "outputs": [],
   "source": []
  },
  {
   "cell_type": "code",
   "execution_count": null,
   "metadata": {
    "collapsed": false
   },
   "outputs": [],
   "source": []
  },
  {
   "cell_type": "code",
   "execution_count": 1,
   "metadata": {
    "collapsed": false
   },
   "outputs": [],
   "source": [
    "%matplotlib inline"
   ]
  },
  {
   "cell_type": "code",
   "execution_count": 2,
   "metadata": {
    "collapsed": false
   },
   "outputs": [],
   "source": [
    "#Function to create the uniform grid\n",
    "\n",
    "import numpy as np\n",
    "\n",
    "def mesh(val1,val2,val3):\n",
    "    \n",
    "#val1 is initial distance \n",
    "#val2 is final distance \n",
    "#val3 is number of cells in domain \n",
    "    \n",
    "    x=np.linspace(val1,val2,val3)\n",
    "    return x"
   ]
  },
  {
   "cell_type": "code",
   "execution_count": 2,
   "metadata": {
    "collapsed": false
   },
   "outputs": [],
   "source": []
  },
  {
   "cell_type": "code",
   "execution_count": 18,
   "metadata": {
    "collapsed": false
   },
   "outputs": [],
   "source": [
    "#Definition of boundary conditions, physical properties and grid dimensions\n",
    "\n",
    "#Total number of cells\n",
    "#if i want 5 cells i need 5 (tc) plus one\n",
    "tc=6\n",
    "\n",
    "#left boundary condition or TA\n",
    "lbc = 100.0\n",
    "\n",
    "#left boundary condition or TB\n",
    "rbc = 500.0\n",
    "\n",
    "#Thermal conductivity coefficient\n",
    "kcoe = 1000\n",
    "\n",
    "#source term (heat generation)\n",
    "qcoe = 0*1000\n",
    "\n",
    "#Cross-section area\n",
    "#area=10*10**-3\n",
    "area=0.01\n",
    "\n",
    "\n",
    "#1-d domain start and end point\n",
    "l_start = 0.0\n",
    "l_end = 0.5\n",
    "\n",
    "#delta cell (spacing delta)\n",
    "delta = (l_end - l_start)/(tc-1)\n",
    "#delta=0.1"
   ]
  },
  {
   "cell_type": "code",
   "execution_count": 18,
   "metadata": {
    "collapsed": false
   },
   "outputs": [],
   "source": []
  },
  {
   "cell_type": "code",
   "execution_count": 19,
   "metadata": {
    "collapsed": false
   },
   "outputs": [],
   "source": [
    "#Create grid and initializa arrays\n",
    "#Compute cell center\n",
    "\n",
    "#call mesh function\n",
    "x=mesh(l_start,l_end,tc)\n",
    "\n",
    "#The lenght of x which is equal to tc\n",
    "y=len(x)\n",
    "\n",
    "#array with mesh cell centers\n",
    "#mcc = np.empty([y-1])\n",
    "mcc = np.zeros([y-1])\n",
    "\n",
    "iter=0\n",
    "\n",
    "for i in x:\n",
    "#for i in range(1,y):\n",
    "\n",
    "    iter=iter+1\n",
    "\n",
    "    if iter<y:\n",
    "        \n",
    "#Position of actual cell center\n",
    "        cc=(((x[i+1]-x[i])/2) + i)\n",
    "        \n",
    "#This is the array with the position of cell center\n",
    "        mcc[iter-1]=cc\n",
    "        #mcc[iter]=cc"
   ]
  },
  {
   "cell_type": "code",
   "execution_count": 19,
   "metadata": {
    "collapsed": false
   },
   "outputs": [],
   "source": []
  },
  {
   "cell_type": "code",
   "execution_count": 20,
   "metadata": {
    "collapsed": false
   },
   "outputs": [],
   "source": [
    "#compute coefficients of internal control volumes\n",
    "#We are assuming that the area is constant and delta is constant (uniform grid)\n",
    "\n",
    "aw = (kcoe*area)/delta\n",
    "ae = (kcoe*area)/delta\n",
    "sp = 0\n",
    "ap = aw + ae - sp \n"
   ]
  },
  {
   "cell_type": "code",
   "execution_count": 20,
   "metadata": {
    "collapsed": false
   },
   "outputs": [],
   "source": []
  },
  {
   "cell_type": "code",
   "execution_count": 21,
   "metadata": {
    "collapsed": false
   },
   "outputs": [],
   "source": [
    "#Assemble array of internal control volumes\n",
    "#FVM coefficients\n",
    "\n",
    "#mic = np.empty([len(mcc),len(mcc)])\n",
    "mic = np.zeros([len(mcc),len(mcc)])\n",
    "\n",
    "for i in range(0,len(mcc)):\n",
    "    \n",
    "    if i>0 and i<len(mcc)-1:\n",
    "    \n",
    "        for j in range(0,len(mcc)):\n",
    "            \n",
    "            #Fill in diagonal\n",
    "            if i==j:\n",
    "                #mic[i,i]=(kcoe*area)/delta + (kcoe*area)/delta\n",
    "                mic[i,i] = ap\n",
    "            \n",
    "            #Fill in off-diagonal -1\n",
    "            elif j==i-1:\n",
    "                #mic[i,j]=-1*(kcoe*area)/delta\n",
    "                mic[i,j] = -1*aw\n",
    "            \n",
    "            #Fill in off-diagonal +1\n",
    "            elif j==i+1:\n",
    "                #mic[i,j]=-1*(kcoe*area)/delta\n",
    "                mic[i,j] = -1*ae\n",
    "                \n",
    "            else:\n",
    "                mic[i,j]=0"
   ]
  },
  {
   "cell_type": "code",
   "execution_count": 21,
   "metadata": {
    "collapsed": false
   },
   "outputs": [],
   "source": []
  },
  {
   "cell_type": "code",
   "execution_count": 22,
   "metadata": {
    "collapsed": false
   },
   "outputs": [],
   "source": [
    "#compute coefficients of boundary control volumes\n",
    "#We are assuming that the area is constant and delta is constant (uniform grid)\n",
    "\n",
    "awb = (kcoe*area)/delta\n",
    "aeb = (kcoe*area)/delta\n",
    "spb = -1*(kcoe*area)/(delta/2)\n",
    "\n",
    "#apb = awb + aeb - spb "
   ]
  },
  {
   "cell_type": "code",
   "execution_count": 22,
   "metadata": {
    "collapsed": false
   },
   "outputs": [],
   "source": []
  },
  {
   "cell_type": "code",
   "execution_count": 23,
   "metadata": {
    "collapsed": false
   },
   "outputs": [],
   "source": [
    "#Add boundary control volumes contribution to FVM coefficients matrix\n",
    "\n",
    "#mic = np.empty([len(mcc),len(mcc)])\n",
    "#np.shape(mic)\n",
    "\n",
    "for i in range(0,len(mcc)):\n",
    "    \n",
    "    #if i<1:\n",
    "    if i==0:\n",
    "    \n",
    "        for j in range(0,len(mcc)):\n",
    "                \n",
    "            if i==j:\n",
    "                #mic[i,i]=(kcoe*area)/delta + (kcoe*area)/(delta/2)\n",
    "                mic[i,i] = aeb - spb\n",
    "            \n",
    "            elif j==i+1:\n",
    "                #mic[i,j]=-1*(kcoe*area)/delta\n",
    "                mic[i,j] = -1*aeb\n",
    "                \n",
    "            #else:\n",
    "            #    mic[i,j]=0\n",
    "            \n",
    "    elif i==len(mcc)-1:\n",
    "        \n",
    "        for j in range(0,len(mcc)):\n",
    "                \n",
    "            if i==j:\n",
    "                #mic[i,i]=(kcoe*area)/delta + kcoe*area/(delta/2)\n",
    "                mic[i,i] = awb - spb\n",
    "                \n",
    "            elif j==i-1:\n",
    "                #mic[i,j]=-1*(kcoe*area)/delta\n",
    "                mic[i,j] = -1*awb"
   ]
  },
  {
   "cell_type": "code",
   "execution_count": 23,
   "metadata": {
    "collapsed": false
   },
   "outputs": [],
   "source": []
  },
  {
   "cell_type": "code",
   "execution_count": 24,
   "metadata": {
    "collapsed": false
   },
   "outputs": [],
   "source": [
    "#Boundary control volume coefficients\n",
    "#Contribution of constant part or Su\n",
    "\n",
    "su_l = ((kcoe*area)/(delta/2))*lbc\n",
    "su_r = ((kcoe*area)/(delta/2))*rbc\n",
    "#apb = awb + aeb - spb "
   ]
  },
  {
   "cell_type": "code",
   "execution_count": 24,
   "metadata": {
    "collapsed": false
   },
   "outputs": [],
   "source": []
  },
  {
   "cell_type": "code",
   "execution_count": 25,
   "metadata": {
    "collapsed": false
   },
   "outputs": [],
   "source": [
    "#Assmeble rhs with boundary conditions\n",
    "#BCs are hardwired to dirichlet\n",
    "\n",
    "#rhs = np.empty([len(mcc)])\n",
    "rhs = np.zeros([len(mcc)])\n",
    "\n",
    "#rhs[0]=((kcoe*area)/(delta/2))*lbc\n",
    "#rhs[len(mcc)-1] = ((kcoe*area)/(delta/2))*rbc\n",
    "\n",
    "#Add possible contribution of source terms\n",
    "su = (qcoe*area*delta)\n",
    "#su = 1000\n",
    "\n",
    "rhs[:] = su\n",
    "\n",
    "#Add to RHS bontribution of boundary conditions (su_l and su_r) and source terms (su)\n",
    "rhs[0] = su_l + su\n",
    "rhs[len(mcc)-1] = su_r + su"
   ]
  },
  {
   "cell_type": "code",
   "execution_count": 25,
   "metadata": {
    "collapsed": false
   },
   "outputs": [],
   "source": []
  },
  {
   "cell_type": "code",
   "execution_count": 26,
   "metadata": {
    "collapsed": false
   },
   "outputs": [],
   "source": [
    "#Solve linear system\n",
    "\n",
    "import numpy as np\n",
    "\n",
    "sol = np.linalg.solve(mic, rhs)\n",
    "\n",
    "#where sol is the vector containing the solution\n",
    "#mic is the matrix with the influence coefficients\n",
    "#rhs is the vector with the boundary conditions and source term contribution"
   ]
  },
  {
   "cell_type": "code",
   "execution_count": 26,
   "metadata": {
    "collapsed": false
   },
   "outputs": [],
   "source": []
  },
  {
   "cell_type": "code",
   "execution_count": 27,
   "metadata": {
    "collapsed": false
   },
   "outputs": [
    {
     "data": {
      "image/png": "[encoded data removed]",
      "text/plain": [
       "<matplotlib.figure.Figure at 0x105f37690>"
      ]
     },
     "metadata": {},
     "output_type": "display_data"
    }
   ],
   "source": [
    "import matplotlib.pylab as plt\n",
    "\n",
    "plt.figure(figsize=(10,10))\n",
    "\n",
    "plt.plot(mcc,sol,'o',markersize=5,label='Numerical solution')\n",
    "\n",
    "#Analytical solution\n",
    "#xsol=np.linspace(l_start,l_end,1000)\n",
    "#asol = 800*xsol + 100\n",
    "\n",
    "#Compute analytical solution\n",
    "xsol=np.linspace(l_start,l_end,1000)\n",
    "asol = ((rbc-lbc)/(l_end - l_start) + (qcoe/(2*kcoe))*((l_end - l_start) - xsol))*xsol + lbc\n",
    "\n",
    "plt.plot(xsol,asol,label='Analytical solution')\n",
    "\n",
    "plt.legend(loc=2,fontsize=15)\n",
    "plt.grid()"
   ]
  },
  {
   "cell_type": "code",
   "execution_count": 27,
   "metadata": {
    "collapsed": false
   },
   "outputs": [],
   "source": []
  },
  {
   "cell_type": "code",
   "execution_count": 28,
   "metadata": {
    "collapsed": false
   },
   "outputs": [
    {
     "data": {
      "text/plain": [
       "<matplotlib.lines.Line2D at 0x1060e4b50>"
      ]
     },
     "execution_count": 28,
     "metadata": {},
     "output_type": "execute_result"
    },
    {
     "data": {
      "image/png": "[encoded data removed]",
      "text/plain": [
       "<matplotlib.figure.Figure at 0x105b1dbd0>"
      ]
     },
     "metadata": {},
     "output_type": "display_data"
    }
   ],
   "source": [
    "#Plot sparse matrix\n",
    "\n",
    "import matplotlib.pylab as plt\n",
    "import scipy.sparse as sps\n",
    "\n",
    "plt.figure(figsize=(10,10))\n",
    "\n",
    "plt.spy(mic,markersize=20,marker='s')"
   ]
  },
  {
   "cell_type": "code",
   "execution_count": 29,
   "metadata": {
    "collapsed": false
   },
   "outputs": [
    {
     "data": {
      "text/plain": [
       "<matplotlib.colorbar.Colorbar instance at 0x10636ad88>"
      ]
     },
     "execution_count": 29,
     "metadata": {},
     "output_type": "execute_result"
    },
    {
     "data": {
      "image/png": "[encoded data removed]",
      "text/plain": [
       "<matplotlib.figure.Figure at 0x106123410>"
      ]
     },
     "metadata": {},
     "output_type": "display_data"
    }
   ],
   "source": [
    "#Plot sparse matrix\n",
    "\n",
    "import matplotlib.pylab as plt\n",
    "\n",
    "plt.figure(figsize=(10,10))\n",
    "\n",
    "#full scale\n",
    "#plt.imshow(mic,interpolation='none',cmap='binary')\n",
    "#plt.imshow(mic,interpolation='nearest',cmap='binary')\n",
    "\n",
    "#full scale\n",
    "plt.imshow(mic,interpolation='nearest')\n",
    "\n",
    "#normalize scale\n",
    "#plt.imshow(mic,interpolation='nearest',vmin=-1, vmax=1)\n",
    "\n",
    "plt.colorbar()"
   ]
  },
  {
   "cell_type": "code",
   "execution_count": 29,
   "metadata": {
    "collapsed": false
   },
   "outputs": [],
   "source": []
  },
  {
   "cell_type": "code",
   "execution_count": 30,
   "metadata": {
    "collapsed": false
   },
   "outputs": [
    {
     "data": {
      "text/plain": [
       "array([[ 300., -100.,    0.,    0.,    0.],\n",
       "       [-100.,  200., -100.,    0.,    0.],\n",
       "       [   0., -100.,  200., -100.,    0.],\n",
       "       [   0.,    0., -100.,  200., -100.],\n",
       "       [   0.,    0.,    0., -100.,  300.]])"
      ]
     },
     "execution_count": 30,
     "metadata": {},
     "output_type": "execute_result"
    }
   ],
   "source": [
    "mic"
   ]
  },
  {
   "cell_type": "code",
   "execution_count": 31,
   "metadata": {
    "collapsed": false
   },
   "outputs": [
    {
     "data": {
      "text/plain": [
       "array([  20000.,       0.,       0.,       0.,  100000.])"
      ]
     },
     "execution_count": 31,
     "metadata": {},
     "output_type": "execute_result"
    }
   ],
   "source": [
    "rhs"
   ]
  },
  {
   "cell_type": "code",
   "execution_count": 32,
   "metadata": {
    "collapsed": false
   },
   "outputs": [
    {
     "data": {
      "text/plain": [
       "array([ 140.,  220.,  300.,  380.,  460.])"
      ]
     },
     "execution_count": 32,
     "metadata": {},
     "output_type": "execute_result"
    }
   ],
   "source": [
    "sol"
   ]
  },
  {
   "cell_type": "code",
   "execution_count": 32,
   "metadata": {
    "collapsed": false
   },
   "outputs": [],
   "source": []
  },
  {
   "cell_type": "code",
   "execution_count": 33,
   "metadata": {
    "collapsed": false
   },
   "outputs": [],
   "source": [
    "#Save the array mic in an output file\n",
    "\n",
    "#np.savetxt('test.out', mic, delimiter=',')   # X is an array\n",
    "#np.savetxt('test.out', mic)   # X is an array\n",
    "#np.savetxt('test.out', mic, fmt='%1.4e')   # use exponential notation\n",
    "#np.savetxt('test.out', mic, fmt='%d')   # decimal\n",
    "#np.savetxt('test.out', mic, fmt='%.2f')   # floating point\n",
    "#np.savetxt('test.out', mic, fmt='%f')   # floating point"
   ]
  },
  {
   "cell_type": "code",
   "execution_count": 33,
   "metadata": {
    "collapsed": false
   },
   "outputs": [],
   "source": []
  },
  {
   "cell_type": "code",
   "execution_count": null,
   "metadata": {
    "collapsed": false
   },
   "outputs": [],
   "source": []
  }
 ],
 "metadata": {
  "kernelspec": {
   "display_name": "Python 2",
   "language": "python",
   "name": "python2"
  },
  "language_info": {
   "codemirror_mode": {
    "name": "ipython",
    "version": 2
   },
   "file_extension": ".py",
   "mimetype": "text/x-python",
   "name": "python",
   "nbconvert_exporter": "python",
   "pygments_lexer": "ipython2",
   "version": "2.7.9"
  }
 },
 "nbformat": 4,
 "nbformat_minor": 0
}

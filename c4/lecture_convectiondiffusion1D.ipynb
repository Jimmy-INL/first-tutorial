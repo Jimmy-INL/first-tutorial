{
 "cells": [
  {
   "cell_type": "markdown",
   "metadata": {},
   "source": [
    "# Discretization of the convection-diffusion equation using the FVM"
   ]
  },
  {
   "cell_type": "markdown",
   "metadata": {},
   "source": [
    "We want to solve the one-dimensional steady state convection-diffusion equation for the property $\\phi$ in a given one-dimensional flow field $u$ governed by the following equation,\n",
    "\n",
    "\\begin{equation}\n",
    "\\frac{\\partial}{\\partial x}(\\rho u \\phi ) = \\frac{\\partial}{\\partial x} (\\Gamma \\frac{\\partial \\phi}{\\partial x}) + S_{\\phi}\n",
    "\\label{e1}\n",
    "\\end{equation}\n",
    "\n"
   ]
  },
  {
   "cell_type": "markdown",
   "metadata": {},
   "source": [
    "The flow must also satisfy continuity,\n",
    "\n",
    "\\begin{equation}\n",
    "\\frac{\\partial ( \\rho u ) }{\\partial x}\n",
    "\\end{equation}"
   ]
  },
  {
   "cell_type": "markdown",
   "metadata": {},
   "source": [
    "A sample control volume is shown in the figure below,"
   ]
  },
  {
   "cell_type": "markdown",
   "metadata": {},
   "source": [
    "<img src=\"figs/uni.gif\",width=500, height=0>\n",
    "<h4 align=\"center\">Figure 1</h4> "
   ]
  },
  {
   "cell_type": "markdown",
   "metadata": {},
   "source": [
    "Let us integrate equation 1 over every control volume $CV$ of the domain,\n",
    "\n",
    "\\begin{equation}\n",
    "\\int_{CV} \\frac{\\partial}{\\partial x}(\\rho u \\phi )  = \\int_{CV} \\frac{\\partial}{\\partial x} (\\Gamma \\frac{\\partial \\phi}{\\partial x}) dV + \\int_{CV} S_{\\phi} dV\n",
    "\\end{equation}\n"
   ]
  },
  {
   "cell_type": "markdown",
   "metadata": {},
   "source": [
    "By applying gauss divergence theorem to convert volume integrals into surface integrals, we get the following equation\n",
    "\n",
    "\\begin{equation}\n",
    "\\oint _{A} (\\rho u \\phi ) \\cdot \\mathbf{n}dA  = \\oint _{A} \\frac{\\partial}{\\partial x} (\\Gamma \\frac{\\partial \\phi}{\\partial x}) \\cdot \\mathbf{n}dA + \\oint _{CV} S_{\\phi} dV\n",
    "\\label{e3}\n",
    "\\end{equation}\n"
   ]
  },
  {
   "cell_type": "markdown",
   "metadata": {},
   "source": [
    "In the previous equation $\\mathbf{n}$ is the normal to the face and $dA$ is the area of the face."
   ]
  },
  {
   "cell_type": "markdown",
   "metadata": {},
   "source": [
    "Integrating equation 4 over a control volume, we obtain\n",
    "\n",
    "\\begin{equation}\n",
    "\\left( \\rho u A \\phi \\right)_e - \\left( \\rho u A \\phi \\right)_w  =  \\left[ \\Gamma A \\frac{\\partial \\phi}{\\partial x} \\right]_e - \\left[ \\Gamma A \\frac{\\partial \\phi}{\\partial x} \\right]_w + \\overline{S} \\Delta V\n",
    "\\end{equation}"
   ]
  },
  {
   "cell_type": "markdown",
   "metadata": {},
   "source": [
    "where $\\Delta V$ is the volume of the control volume and $\\overline{S}$ is the average value of the source term $S$ over the control volume."
   ]
  },
  {
   "cell_type": "markdown",
   "metadata": {},
   "source": [
    "Applying the Gauss divergence  divergence theorem and integrating equation 2, we obtain\n",
    "\n",
    "\\begin{equation}\n",
    "\\left( \\rho u A \\right)_e - \\left( \\rho u A \\right)_w = 0\n",
    "\\end{equation}"
   ]
  },
  {
   "cell_type": "markdown",
   "metadata": {},
   "source": [
    "To obtain the discretised equations for the convection-diffusion problem we must approximate the terms in equation 5.  "
   ]
  },
  {
   "cell_type": "markdown",
   "metadata": {},
   "source": [
    "Let us define the convective flux $F$ as \n",
    "\n",
    "\\begin{equation}\n",
    "F = \\rho u\n",
    "\\end{equation}"
   ]
  },
  {
   "cell_type": "markdown",
   "metadata": {},
   "source": [
    "and the diffusive flux $D$ as \n",
    "\n",
    "\\begin{equation}\n",
    "D = \\frac{\\Gamma}{\\Delta_{we}}\n",
    "\\end{equation}"
   ]
  },
  {
   "cell_type": "markdown",
   "metadata": {},
   "source": [
    "The cell face values of the fluxes $F$ and $D$ can be written as \n",
    "\n",
    "\\begin{equation}\n",
    "\\begin{split}\n",
    "F_w  &= \\left( \\rho u A \\right)_w \\\\\n",
    "F_e  &= \\left( \\rho u A \\right)_e \\\\\n",
    "D_w  &= \\frac{\\Gamma_w A_w}{\\Delta_{WP}} \\\\\n",
    "D_e  &= \\frac{\\Gamma_e A_e}{\\Delta_{PE}}\n",
    "\\end{split}\n",
    "\\end{equation}"
   ]
  },
  {
   "cell_type": "markdown",
   "metadata": {},
   "source": [
    "Let us assume that in equations 5 and 6 the area $A_e = A_w = A$.  We also assume that $\\Delta_{PE} = \\Delta_{WP} = \\Delta_{we} = \\Delta$  and $\\Delta_{Pe}=\\Delta_{wP}=\\Delta / 2$, meaning that we are dealing with a uniform mesh (refer to figure 1)."
   ]
  },
  {
   "cell_type": "markdown",
   "metadata": {},
   "source": [
    "The integrated convection-diffusion equation 5 can now be written as\n",
    "\n",
    "\\begin{equation}\n",
    "F_e \\phi_e - F_w \\phi_w  =  D_e \\left( \\phi_E - \\phi_P \\right) - D_w \\left( \\phi_P - \\phi_W \\right) + \\overline{S} \\Delta V\n",
    "\\end{equation}"
   ]
  },
  {
   "cell_type": "markdown",
   "metadata": {},
   "source": [
    "where we have used central differencing to find the gradients appearing on the right hand side of equation 5.  "
   ]
  },
  {
   "cell_type": "markdown",
   "metadata": {},
   "source": [
    "The integrated conitnuity equation 6 can now be written as\n",
    "\n",
    "\\begin{equation}\n",
    "F_e  - F_w   = 0\n",
    "\\end{equation}"
   ]
  },
  {
   "cell_type": "markdown",
   "metadata": {},
   "source": [
    "We also assume that the velocity field is know, which takes care of the values of $F_e$ and $F_w$.\n",
    "\n",
    "At this point, we need to approximate the face values appearing in the left hand side of equation 10, to do so, we use the cell center values."
   ]
  },
  {
   "cell_type": "markdown",
   "metadata": {},
   "source": [
    "In equation 10, we used central differencing to find the gradients appearing on the diffusion term.  Now it seems logical to try linear interpolation to compute the cell face values for the convective terms on the left hand side of equation 10.  For a uniform grid, we can write the cell face values of property $\\phi$ as\n",
    "\n",
    "\\begin{equation}\n",
    "\\begin{split}\n",
    "\\phi_e = \\frac{\\left( \\phi_P + \\phi_E \\right)}{2} \\\\\n",
    "\\phi_w = \\frac{\\left( \\phi_W + \\phi_P \\right)}{2} \n",
    "\\end{split}\n",
    "\\end{equation}"
   ]
  },
  {
   "cell_type": "markdown",
   "metadata": {},
   "source": [
    "Substituting the above equation into equation 10 and assuming that there are no source terms yields to,\n",
    "\n",
    "\\begin{equation}\n",
    "\\frac{F_e}{2}  \\left( \\phi_P + \\phi_E \\right) - \\frac{F_w}{2}  \\left( \\phi_W + \\phi_P \\right)        =  D_e \\left( \\phi_E - \\phi_P \\right)  - D_w \\left( \\phi_P - \\phi_W \\right)\n",
    "\\end{equation}"
   ]
  },
  {
   "cell_type": "markdown",
   "metadata": {},
   "source": [
    "The previous equation can be rearranged to give\n",
    "\n",
    "\\begin{equation}\n",
    "\\left[ \\left( D_w + \\frac{F_w}{2} \\right) + \\left( D_e - \\frac{F_e}{2} \\right) + \\left( F_e - F_w \\right) \\right]   \\phi_P    =  \\left( D_w + \\frac{F_w}{2} \\right) \\phi_W + \\left( D_e - \\frac{F_e}{2} \\right) \\phi_E\n",
    "\\end{equation}"
   ]
  },
  {
   "cell_type": "markdown",
   "metadata": {},
   "source": [
    "Identifying the coefficients $\\phi_W$ and $\\phi_E$ as $a_W$ and $a_E$, the central differencing discretization of the convection-diffusion equation can be written as\n",
    "\n",
    "\\begin{equation}\n",
    "a_P \\phi_P = a_W \\phi_W + a_E \\phi_E\n",
    "\\end{equation}"
   ]
  },
  {
   "cell_type": "markdown",
   "metadata": {},
   "source": [
    "where\n",
    "\n",
    "\\begin{equation}\n",
    "\\begin{split}\n",
    "a_W &= D_w + \\frac{F_w}{2}  \\\\\n",
    "a_E &= D_e - \\frac{F_e}{2}  \\\\\n",
    "a_P &= a_W + a_E + (F_e - F_w)\n",
    "\\end {split}\n",
    "\\end{equation}"
   ]
  },
  {
   "cell_type": "markdown",
   "metadata": {},
   "source": [
    "Let us introduce the boundary conditions. In figure 2, we illustrate the grid layout of boundary face A.  \n",
    "\n",
    "Always remember, boundary conditions require special treatment."
   ]
  },
  {
   "cell_type": "markdown",
   "metadata": {},
   "source": [
    "<img src=\"figs/bc1.gif\",width=400, height=0>\n",
    "<h4 align=\"center\">Figure 2</h4> "
   ]
  },
  {
   "cell_type": "markdown",
   "metadata": {},
   "source": [
    "Integrating equation 1 over the control volume P (as shown in figure 2), and using central differencing for the convective and diffusive fluxes we obtain the discretized equation of the control volume sharing the boundary face A,\n",
    "\n",
    "\\begin{equation}\n",
    "\\frac{F_e}{2}  \\left( \\phi_P + \\phi_E \\right) - F_A \\phi_A       =  D_e \\left( \\phi_E - \\phi_P \\right)  - D_A \\left( \\phi_P - \\phi_A \\right)\n",
    "\\end{equation}"
   ]
  },
  {
   "cell_type": "markdown",
   "metadata": {},
   "source": [
    "Equation 17 can be expressed as,\n",
    "\n",
    "$$\n",
    "\\begin{equation}\n",
    "a_P \\phi_P = a_W \\phi_W + a_E \\phi_E + S_u\n",
    "\\end{equation}\n",
    "$$"
   ]
  },
  {
   "cell_type": "markdown",
   "metadata": {},
   "source": [
    "where\n",
    "\n",
    "\\begin{equation}\n",
    "\\begin{split}\n",
    "a_W &= 0 \\\\\n",
    "a_E &= D - \\frac{F}{2 } \\\\\n",
    "a_P &= a_W + a_E + (F_e - F_w) - S_p \\\\\n",
    "S_p &= - (2 D + F) \\\\\n",
    "S_u &=   (2 D + F) \\phi_A\n",
    "\\end {split}\n",
    "\\end{equation}"
   ]
  },
  {
   "cell_type": "markdown",
   "metadata": {},
   "source": [
    "Notice that in order to introduce the boundary conditions we have supressed the link to the boundary side and entered the boundary flux through the source terms.\n"
   ]
  },
  {
   "cell_type": "markdown",
   "metadata": {},
   "source": [
    "<img src=\"figs/bc2.gif\",width=400, height=0>\n",
    "<h4 align=\"center\">Figure 3</h4> "
   ]
  },
  {
   "cell_type": "markdown",
   "metadata": {},
   "source": [
    "To find the discretized equation of the control volume sharing boundary face B (figure 3), we can proceed in a similar way,\n",
    "\n",
    "\\begin{equation}\n",
    "F_B \\phi_B  - \\frac{F_w}{2}  \\left( \\phi_P + \\phi_W \\right)       =  D_B \\left( \\phi_B - \\phi_P \\right)  - D_w \\left( \\phi_P - \\phi_W\n",
    "\\right)\n",
    "\\end{equation}"
   ]
  },
  {
   "cell_type": "markdown",
   "metadata": {},
   "source": [
    "Equation 20 can be expressed as,\n",
    "\n",
    "$$\n",
    "\\begin{equation}\n",
    "a_P \\phi_P = a_W \\phi_W + a_E \\phi_E + S_u\n",
    "\\end{equation}\n",
    "$$"
   ]
  },
  {
   "cell_type": "markdown",
   "metadata": {},
   "source": [
    "where\n",
    "\n",
    "\\begin{equation}\n",
    "\\begin{split}\n",
    "a_W &= D + \\frac{F}{2 } \\\\\n",
    "a_E &= 0 \\\\\n",
    "a_P &= a_W + a_E + (F_e - F_w) - S_p \\\\\n",
    "S_p &= - (2 D - F) \\\\\n",
    "S_u &=   (2 D - F) \\phi_B\n",
    "\\end {split}\n",
    "\\end{equation}"
   ]
  },
  {
   "cell_type": "markdown",
   "metadata": {},
   "source": [
    "Notice that in order to introduce the boundary conditions we have supressed the link to the boundary side and entered the boundary flux through the source terms.\n"
   ]
  },
  {
   "cell_type": "markdown",
   "metadata": {},
   "source": [
    "## Summary"
   ]
  },
  {
   "cell_type": "markdown",
   "metadata": {},
   "source": [
    "The general form of the discretized equations can be expressed as follows,\n",
    "\n",
    "$$\n",
    "a_P \\phi_P = \\sum a_{nb} \\phi_{nb} + S_u\n",
    "$$"
   ]
  },
  {
   "cell_type": "markdown",
   "metadata": {},
   "source": [
    "where $\\sum$ indicates summation over all neighbouring control volumes ($nb$), $a_{nb}$ are the neightbouring coefficients, and $(S_u + S_p \\phi_P)$ is the linearized source term."
   ]
  },
  {
   "cell_type": "markdown",
   "metadata": {},
   "source": [
    "Also, the coeffcients around cell center $P$ satisfy the following relation\n",
    "\n",
    "$$\n",
    "a_P = \\sum a_{nb} + \\sum F_{nb} - S_p\n",
    "$$"
   ]
  },
  {
   "cell_type": "code",
   "execution_count": null,
   "metadata": {
    "collapsed": false
   },
   "outputs": [],
   "source": []
  },
  {
   "cell_type": "markdown",
   "metadata": {},
   "source": [
    "## Working example"
   ]
  },
  {
   "cell_type": "markdown",
   "metadata": {},
   "source": [
    "Consider the qunatity $\\phi$ being transported by means of convection and diffusion in a one-dimensional domain. The problem is governed by equation 1, the boundary conditions are $\\phi_0=1$ at $x=0$ and $\\phi_L=0$ at $x=L$.\n",
    "\n",
    "Calculate the distribution of $\\phi$ as a function of $x$.  \n",
    "\n",
    "Assume: \n",
    "\n",
    "* Diffusion coefficient $\\Gamma$ is equal to $0.1 \\, kg/m.s$\n",
    "\n",
    "* $\\rho$ is equal to $1.0 \\, kg / m^3$\n",
    "\n",
    "* Cross-sectional area A is $1 \\, m^2$\n",
    "\n",
    "* Domain length is $L = 1 \\, m$\n",
    "\n",
    "* $\\phi_0=1$ \n",
    "\n",
    "* $\\phi_L=0$\n",
    "\n",
    "* Case 1: $u = 0.1 \\, m/s$\n",
    "\n",
    "* Case 2: $u = 1.0 \\, m/s$\n",
    "\n",
    "* Case 3: $u = 2.5 \\, m/s$\n",
    "\n",
    "* Use 5 cells, then increase the number of cells in the domain."
   ]
  },
  {
   "cell_type": "markdown",
   "metadata": {},
   "source": [
    "The analytical solution to this problem is given by\n",
    "\n",
    "$$\n",
    "\\frac{\\phi - \\phi_0}{\\phi_L - \\phi_0} = \\frac{e^{\\rho u x / \\Gamma} - 1}{e^{\\rho u L / \\Gamma} - 1}\n",
    "$$"
   ]
  },
  {
   "cell_type": "code",
   "execution_count": null,
   "metadata": {
    "collapsed": false
   },
   "outputs": [],
   "source": []
  },
  {
   "cell_type": "code",
   "execution_count": null,
   "metadata": {
    "collapsed": false
   },
   "outputs": [],
   "source": []
  },
  {
   "cell_type": "code",
   "execution_count": 2,
   "metadata": {
    "collapsed": false
   },
   "outputs": [],
   "source": [
    "%matplotlib inline"
   ]
  },
  {
   "cell_type": "code",
   "execution_count": 3,
   "metadata": {
    "collapsed": false
   },
   "outputs": [],
   "source": [
    "#Function to create the uniform grid\n",
    "\n",
    "import numpy as np\n",
    "\n",
    "def mesh(val1,val2,val3):\n",
    "    \n",
    "#val1 is initial distance \n",
    "#val2 is final distance \n",
    "#val3 is number of cells in domain \n",
    "    \n",
    "    x=np.linspace(val1,val2,val3)\n",
    "    return x"
   ]
  },
  {
   "cell_type": "code",
   "execution_count": 3,
   "metadata": {
    "collapsed": false
   },
   "outputs": [],
   "source": []
  },
  {
   "cell_type": "code",
   "execution_count": 140,
   "metadata": {
    "collapsed": false
   },
   "outputs": [],
   "source": [
    "#Definition of boundary conditions, physical properties and grid dimensions\n",
    "\n",
    "#if i want 5 cells i need 5 (tc) plus one\n",
    "tc=6\n",
    "#tc=11\n",
    "\n",
    "#left boundary condition\n",
    "lbc = 1.0\n",
    "\n",
    "#left boundary condition\n",
    "rbc = 0.0\n",
    "\n",
    "#U\n",
    "u = 0.1\n",
    "#u = 1.0\n",
    "#u = 2.5\n",
    "\n",
    "#rho\n",
    "rho = 1.0\n",
    "\n",
    "#Diffusion coefficient\n",
    "Lcoe = 0.1\n",
    "#Lcoe = 0.01\n",
    "\n",
    "#source term \n",
    "qcoe = 0*1\n",
    "\n",
    "#Cross-section area\n",
    "area=1\n",
    "\n",
    "#1-d domain start and end point\n",
    "l_start = 0.0\n",
    "l_end = 1.0\n",
    "\n",
    "#delta cell\n",
    "delta = (l_end - l_start)/(tc-1)\n",
    "#delta=0.1"
   ]
  },
  {
   "cell_type": "code",
   "execution_count": 140,
   "metadata": {
    "collapsed": false
   },
   "outputs": [],
   "source": []
  },
  {
   "cell_type": "code",
   "execution_count": 141,
   "metadata": {
    "collapsed": false
   },
   "outputs": [],
   "source": [
    "#Create grid and initializa arrays\n",
    "#Compute cell center\n",
    "\n",
    "#call mesh function\n",
    "x=mesh(l_start,l_end,tc)\n",
    "\n",
    "#The lenght of x which is equal to tc\n",
    "y=len(x)\n",
    "\n",
    "#array with mesh cell centers\n",
    "mcc = np.empty([y-1])\n",
    "\n",
    "iter=0\n",
    "\n",
    "for i in x:\n",
    "#for i in range(1,y):\n",
    "\n",
    "    iter=iter+1\n",
    "\n",
    "    if iter<y:\n",
    "        \n",
    "#Position of actual cell center\n",
    "        cc=(((x[i+1]-x[i])/2) + i)\n",
    "        \n",
    "#This is the array with the position of cell center\n",
    "        mcc[iter-1]=cc\n",
    "        #mcc[iter]=cc"
   ]
  },
  {
   "cell_type": "code",
   "execution_count": 141,
   "metadata": {
    "collapsed": false
   },
   "outputs": [],
   "source": []
  },
  {
   "cell_type": "code",
   "execution_count": 142,
   "metadata": {
    "collapsed": false
   },
   "outputs": [],
   "source": [
    "#compute coefficients of internal control volumes\n",
    "#We are assuming that the area is constant and delta is constant (uniform grid)\n",
    "\n",
    "F = rho*u\n",
    "D = Lcoe/delta\n",
    "\n",
    "aw = D + F/2\n",
    "ae = D - F/2\n",
    "sp = 0\n",
    "su = 0\n",
    "\n",
    "ap = aw + ae \n"
   ]
  },
  {
   "cell_type": "code",
   "execution_count": 142,
   "metadata": {
    "collapsed": false
   },
   "outputs": [],
   "source": []
  },
  {
   "cell_type": "code",
   "execution_count": 143,
   "metadata": {
    "collapsed": false
   },
   "outputs": [],
   "source": [
    "#Assemble array of internal control volumes\n",
    "#FVM coefficients\n",
    "\n",
    "#mic = np.empty([len(mcc),len(mcc)])\n",
    "mic = np.zeros([len(mcc),len(mcc)])\n",
    "\n",
    "for i in range(0,len(mcc)):\n",
    "    \n",
    "    if i>0 and i<len(mcc)-1:\n",
    "    \n",
    "        for j in range(0,len(mcc)):\n",
    "            \n",
    "            #Fill in diagonal\n",
    "            if i==j:\n",
    "                #mic[i,i]=(kcoe*area)/delta + (kcoe*area)/delta\n",
    "                mic[i,i] = ap\n",
    "            \n",
    "            #Fill in off-diagonal -1\n",
    "            elif j==i-1:\n",
    "                #mic[i,j]=-1*(kcoe*area)/delta\n",
    "                mic[i,j] = -1*aw\n",
    "            \n",
    "            #Fill in off-diagonal +1\n",
    "            elif j==i+1:\n",
    "                #mic[i,j]=-1*(kcoe*area)/delta\n",
    "                mic[i,j] = -1*ae\n",
    "                \n",
    "            else:\n",
    "                mic[i,j]=0"
   ]
  },
  {
   "cell_type": "code",
   "execution_count": 143,
   "metadata": {
    "collapsed": false
   },
   "outputs": [],
   "source": []
  },
  {
   "cell_type": "code",
   "execution_count": 144,
   "metadata": {
    "collapsed": false
   },
   "outputs": [],
   "source": [
    "#compute coefficients of boundary control volumes\n",
    "#We are assuming that the area is constant and delta is constant (uniform grid)\n",
    "\n",
    "F = rho*u\n",
    "D = Lcoe/delta\n",
    "\n",
    "awb = D + F/2\n",
    "aeb = D - F/2\n",
    "\n",
    "#spb = -1*(2*D + F)\n",
    "#sub = 1*(2*D + F)\n",
    "\n",
    "#ap = aw + ae - spb"
   ]
  },
  {
   "cell_type": "code",
   "execution_count": 144,
   "metadata": {
    "collapsed": false
   },
   "outputs": [],
   "source": []
  },
  {
   "cell_type": "code",
   "execution_count": 145,
   "metadata": {
    "collapsed": false
   },
   "outputs": [],
   "source": [
    "#Add boundary control volumes contribution to FVM coefficients matrix\n",
    "\n",
    "#mic = np.empty([len(mcc),len(mcc)])\n",
    "#np.shape(mic)\n",
    "\n",
    "for i in range(0,len(mcc)):\n",
    "    \n",
    "    #if i<1:\n",
    "    if i==0:\n",
    "    \n",
    "        for j in range(0,len(mcc)):\n",
    "                \n",
    "            if i==j:\n",
    "                spb = -1*(2*D + F)\n",
    "                mic[i,i] = aeb - spb\n",
    "            \n",
    "            elif j==i+1:\n",
    "                #mic[i,j]=-1*(kcoe*area)/delta\n",
    "                mic[i,j] = -1*aeb\n",
    "                \n",
    "            #else:\n",
    "            #    mic[i,j]=0\n",
    "            \n",
    "    elif i==len(mcc)-1:\n",
    "        \n",
    "        for j in range(0,len(mcc)):\n",
    "                \n",
    "            if i==j:\n",
    "                spb = -1*(2*D - F)\n",
    "                mic[i,i] =  awb - spb\n",
    "                \n",
    "            elif j==i-1:\n",
    "                #mic[i,j]=-1*(kcoe*area)/delta\n",
    "                mic[i,j] = -1*awb"
   ]
  },
  {
   "cell_type": "code",
   "execution_count": 145,
   "metadata": {
    "collapsed": false
   },
   "outputs": [],
   "source": []
  },
  {
   "cell_type": "code",
   "execution_count": 146,
   "metadata": {
    "collapsed": false
   },
   "outputs": [],
   "source": [
    "#Boundary control volume coefficients\n",
    "#Contribution of constant part or Su\n",
    "\n",
    "su_l = 1*(2*D + F)*lbc\n",
    "su_r = 1*(2*D - F)*rbc\n",
    "#apb = awb + aeb - spb "
   ]
  },
  {
   "cell_type": "code",
   "execution_count": 146,
   "metadata": {
    "collapsed": false
   },
   "outputs": [],
   "source": []
  },
  {
   "cell_type": "code",
   "execution_count": 147,
   "metadata": {
    "collapsed": false
   },
   "outputs": [],
   "source": [
    "#Assmeble rhs with boundary conditions\n",
    "#BCs are hardwired to dirichlet\n",
    "\n",
    "#rhs = np.empty([len(mcc)])\n",
    "rhs = np.zeros([len(mcc)])\n",
    "\n",
    "su = 0\n",
    "\n",
    "rhs[:] = su\n",
    "\n",
    "rhs[0] = su_l + su\n",
    "rhs[len(mcc)-1] = su_r + su"
   ]
  },
  {
   "cell_type": "code",
   "execution_count": 147,
   "metadata": {
    "collapsed": false
   },
   "outputs": [],
   "source": []
  },
  {
   "cell_type": "code",
   "execution_count": 148,
   "metadata": {
    "collapsed": false
   },
   "outputs": [],
   "source": [
    "#Solve linear system\n",
    "\n",
    "import numpy as np\n",
    "\n",
    "sol = np.linalg.solve(mic, rhs)\n",
    "\n",
    "#where sol is the vector containing the solution\n",
    "#mic is the matrix with the influence coefficients\n",
    "#rhs is the vector with the boundary conditions and source term contribution"
   ]
  },
  {
   "cell_type": "code",
   "execution_count": 148,
   "metadata": {
    "collapsed": false
   },
   "outputs": [],
   "source": []
  },
  {
   "cell_type": "code",
   "execution_count": 149,
   "metadata": {
    "collapsed": false
   },
   "outputs": [
    {
     "data": {
      "image/png": "[encoded data removed]",
      "text/plain": [
       "<matplotlib.figure.Figure at 0x109c4ab10>"
      ]
     },
     "metadata": {},
     "output_type": "display_data"
    }
   ],
   "source": [
    "import matplotlib.pylab as plt\n",
    "\n",
    "plt.figure(figsize=(10,10))\n",
    "\n",
    "plt.plot(mcc,sol,'o-',markersize=5,label='Numerical solution')\n",
    "\n",
    "#Compute analytical solution\n",
    "xsol=np.linspace(l_start,l_end,1000)\n",
    "asol = ((np.exp(rho*u*xsol/Lcoe) - 1)/(np.exp(rho*u*(l_end - l_start)/Lcoe) - 1))*(rbc - lbc) + lbc\n",
    "#asol = (rho*u*xsol/Lcoe)\n",
    "\n",
    "#plt.ylim([0, 1.5])\n",
    "\n",
    "plt.plot(xsol,asol,label='Analytical solution')\n",
    "\n",
    "\n",
    "plt.legend(loc=1,fontsize=15)\n",
    "plt.grid()"
   ]
  },
  {
   "cell_type": "code",
   "execution_count": 149,
   "metadata": {
    "collapsed": false
   },
   "outputs": [],
   "source": []
  },
  {
   "cell_type": "code",
   "execution_count": 150,
   "metadata": {
    "collapsed": false
   },
   "outputs": [
    {
     "data": {
      "text/plain": [
       "<matplotlib.lines.Line2D at 0x10a930a90>"
      ]
     },
     "execution_count": 150,
     "metadata": {},
     "output_type": "execute_result"
    },
    {
     "data": {
      "image/png": "[encoded data removed]",
      "text/plain": [
       "<matplotlib.figure.Figure at 0x10a99fd10>"
      ]
     },
     "metadata": {},
     "output_type": "display_data"
    }
   ],
   "source": [
    "#Plot sparse matrix\n",
    "\n",
    "import matplotlib.pylab as plt\n",
    "import scipy.sparse as sps\n",
    "\n",
    "plt.figure(figsize=(10,10))\n",
    "\n",
    "plt.spy(mic,markersize=20,marker='s')\n",
    "#plt.spy(mic[0:20,0:20],markersize=20,marker='s')"
   ]
  },
  {
   "cell_type": "code",
   "execution_count": 151,
   "metadata": {
    "collapsed": false
   },
   "outputs": [
    {
     "data": {
      "text/plain": [
       "<matplotlib.colorbar.Colorbar instance at 0x10b42cf80>"
      ]
     },
     "execution_count": 151,
     "metadata": {},
     "output_type": "execute_result"
    },
    {
     "data": {
      "image/png": "[encoded data removed]",
      "text/plain": [
       "<matplotlib.figure.Figure at 0x10a98f990>"
      ]
     },
     "metadata": {},
     "output_type": "display_data"
    }
   ],
   "source": [
    "#Plot sparse matrix\n",
    "\n",
    "import matplotlib.pylab as plt\n",
    "\n",
    "plt.figure(figsize=(10,10))\n",
    "\n",
    "#full scale\n",
    "#plt.imshow(mic,interpolation='none',cmap='binary')\n",
    "#plt.imshow(mic,interpolation='nearest',cmap='binary')\n",
    "\n",
    "#full scale\n",
    "plt.imshow(mic,interpolation='nearest')\n",
    "#plt.imshow(mic[0:50,0:50],interpolation='nearest')\n",
    "\n",
    "#normalize scale\n",
    "#plt.imshow(mic,interpolation='nearest',vmin=-1, vmax=1)\n",
    "\n",
    "plt.colorbar()"
   ]
  },
  {
   "cell_type": "code",
   "execution_count": 151,
   "metadata": {
    "collapsed": false
   },
   "outputs": [],
   "source": []
  },
  {
   "cell_type": "code",
   "execution_count": 152,
   "metadata": {
    "collapsed": false
   },
   "outputs": [
    {
     "data": {
      "text/plain": [
       "array([[ 1.55, -0.45,  0.  ,  0.  ,  0.  ],\n",
       "       [-0.55,  1.  , -0.45,  0.  ,  0.  ],\n",
       "       [ 0.  , -0.55,  1.  , -0.45,  0.  ],\n",
       "       [ 0.  ,  0.  , -0.55,  1.  , -0.45],\n",
       "       [ 0.  ,  0.  ,  0.  , -0.55,  1.45]])"
      ]
     },
     "execution_count": 152,
     "metadata": {},
     "output_type": "execute_result"
    }
   ],
   "source": [
    "mic"
   ]
  },
  {
   "cell_type": "code",
   "execution_count": 153,
   "metadata": {
    "collapsed": false
   },
   "outputs": [
    {
     "data": {
      "text/plain": [
       "array([ 1.1,  0. ,  0. ,  0. ,  0. ])"
      ]
     },
     "execution_count": 153,
     "metadata": {},
     "output_type": "execute_result"
    }
   ],
   "source": [
    "rhs"
   ]
  },
  {
   "cell_type": "code",
   "execution_count": 154,
   "metadata": {
    "collapsed": false
   },
   "outputs": [
    {
     "data": {
      "text/plain": [
       "array([ 0.94210996,  0.80060097,  0.62764554,  0.41625556,  0.15789004])"
      ]
     },
     "execution_count": 154,
     "metadata": {},
     "output_type": "execute_result"
    }
   ],
   "source": [
    "sol"
   ]
  },
  {
   "cell_type": "code",
   "execution_count": 154,
   "metadata": {
    "collapsed": false
   },
   "outputs": [],
   "source": []
  },
  {
   "cell_type": "code",
   "execution_count": 19,
   "metadata": {
    "collapsed": false
   },
   "outputs": [],
   "source": [
    "#Save the array mic in an output file\n",
    "\n",
    "#np.savetxt('test.out', mic, delimiter=',')   # X is an array\n",
    "#np.savetxt('test.out', mic)   # X is an array\n",
    "#np.savetxt('test.out', mic, fmt='%1.4e')   # use exponential notation\n",
    "#np.savetxt('test.out', mic, fmt='%d')   # decimal\n",
    "#np.savetxt('test.out', mic, fmt='%.2f')   # floating point\n",
    "#np.savetxt('test.out', mic, fmt='%f')   # floating point"
   ]
  },
  {
   "cell_type": "code",
   "execution_count": null,
   "metadata": {
    "collapsed": false
   },
   "outputs": [],
   "source": []
  }
 ],
 "metadata": {
  "kernelspec": {
   "display_name": "Python 3",
   "language": "python",
   "name": "python3"
  },
  "language_info": {
   "codemirror_mode": {
    "name": "ipython",
    "version": 3
   },
   "file_extension": ".py",
   "mimetype": "text/x-python",
   "name": "python",
   "nbconvert_exporter": "python",
   "pygments_lexer": "ipython3",
   "version": "3.6.0"
  }
 },
 "nbformat": 4,
 "nbformat_minor": 0
}
